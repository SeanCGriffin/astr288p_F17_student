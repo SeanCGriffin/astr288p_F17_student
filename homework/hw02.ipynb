{
 "cells": [
  {
   "cell_type": "markdown",
   "metadata": {},
   "source": [
    "## ASTR288P Assignment 2\n",
    "Assigned: 2017/09/22 4PM\n",
    "\n",
    "Due:      2017/09/29 2PM\n",
    "## Instructions\n",
    "Please place the answers to these questions in this notebook and place the notebook in\n",
    "\n",
    "~/ASTR288P/homework/`<your_username`>_hw02.ipynb\n",
    "\n",
    "Remember, my collection scripts are case sensitive!\n",
    "\n",
    "## Conceptual Questions\n",
    "\n",
    "1. Imagine your $PATH contains the following: \n",
    "\n",
    "```\n",
    "    /usr/bin/:/home/yourname/miniconda/bin/:/science/\n",
    "\n",
    "```\n",
    "\n",
    "and you have the following binaries installed in in the following directories:\n",
    "```\n",
    "    python:             /usr/bin/\n",
    "    python:             /home/yourname/miniconda/bin/\n",
    "    science_code1:      /science/\n",
    "    science_code2:      /home/yourname/work/some_code/\n",
    "```\n",
    "\n",
    "What would happen you run the following commands (i.e. what programs **specifically** start, or what error messages would be given)?\n",
    "Note that these are **conceptual** questions, so you can't really try them in the command line! **(4)**\n",
    "\n",
    "```\n",
    "    cd ~/   #no response needed for this one, but ensures we're at home.\n",
    "    which python\n",
    "    python\n",
    "    /home/yourname/miniconda/bin/python\n",
    "    science_code1\n",
    "    ./science_code1\n",
    "    cd /home/yourname/work/some_code/ #no response required...\n",
    "    science_code2\n",
    "    ./science_code2\n",
    "\n",
    "```"
   ]
  },
  {
   "cell_type": "code",
   "execution_count": 9,
   "metadata": {
    "collapsed": true
   },
   "outputs": [],
   "source": [
    "### Place your answerss in this cell"
   ]
  },
  {
   "cell_type": "markdown",
   "metadata": {},
   "source": [
    "## Coding Questions\n",
    "\n",
    "2- Write a snippet of code that computes the sum of all even numbers up to and including an ineger value **n**. Test this for a few small values of **n**, even and odd. Print out the sum for n=999 and n=1000. What happened if you set **n** to be a negative number? **(5)**"
   ]
  },
  {
   "cell_type": "code",
   "execution_count": 10,
   "metadata": {
    "collapsed": true
   },
   "outputs": [],
   "source": [
    "##Place your code in this cell. Add more cells if you require them."
   ]
  },
  {
   "cell_type": "markdown",
   "metadata": {},
   "source": [
    "3- **(10 marks)**\n",
    "\n",
    "Write a function named '**calc_Req**' that calculates and returns the equivalent resistance of an electronic cirtcuit that has two resistors in parallel or two resistors in series. You will need to pass three arguments to the function: $R_1$, $R_2$, and \"parallel\" or \"series\" depending on the configuration of the electric circuit. \n",
    "\n",
    "Recall that for a series electric circuit, \n",
    "\n",
    "$$\n",
    "R_{eq} = R_1 + R_2\n",
    "$$\n",
    "\n",
    "and for a parallel electric circuit\n",
    "\n",
    "$$\n",
    "\\frac{1}{R_{eq}} = \\frac{1}{R_1} + \\frac{1}{R_2}\n",
    "$$\n",
    "\n",
    "Test your code on the following configurations: \n",
    "\n",
    "1. $R_1$ = 100 $\\Omega$, $R_2$ = 100 $\\Omega$, series   \n",
    "1. $R_1$ = 100 $\\Omega$, $R_2$ = 100 $\\Omega$, parallel \n",
    "1. $R_1$ = 200 $\\Omega$, $R_2$ = 750 $\\Omega$, series\n",
    "1. $R_1$ = 200 $\\Omega$, $R_2$ = 750 $\\Omega$, parallel\n",
    "1. $R_1$ = 500 $\\Omega$, $R_2$ = 5 M$\\Omega$, parallel\n",
    "\n",
    "Your code needs to be able to tell when an incorrect input is provided (**i.e.** if specified something other than 'series' or 'parallel' (which is known as a 'ValueError', or if you input a negative resistance) and print an error message to screen. Demonstrate that this works by trying a couple incorrect values.\n",
    "\n",
    "**Bonus!**: **(2 marks)** Implement the \"error catching\" using python Exceptions. The type of exception relevant to this example is the 'ValueError'. Use the following commands: 'try', 'raise', 'ValueError' and demonstrate what happens if invalid inputs are given to your function."
   ]
  },
  {
   "cell_type": "code",
   "execution_count": 11,
   "metadata": {
    "collapsed": true
   },
   "outputs": [],
   "source": [
    "### Place your code in this cell. Add more cells if you require them."
   ]
  }
 ],
 "metadata": {
  "kernelspec": {
   "display_name": "Python 3",
   "language": "python",
   "name": "python3"
  },
  "language_info": {
   "codemirror_mode": {
    "name": "ipython",
    "version": 3
   },
   "file_extension": ".py",
   "mimetype": "text/x-python",
   "name": "python",
   "nbconvert_exporter": "python",
   "pygments_lexer": "ipython3",
   "version": "3.6.2"
  }
 },
 "nbformat": 4,
 "nbformat_minor": 2
}
