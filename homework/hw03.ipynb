{
 "cells": [
  {
   "cell_type": "markdown",
   "metadata": {},
   "source": [
    "## ASTR288P Assignment 3\n",
    "Assigned: 2017/10/6 4PM\n",
    "\n",
    "Due:      2017/10/20 2PM\n",
    "\n",
    "## Instructions\n",
    "Please place the answers to these questions in this notebook and place the notebook in\n",
    "\n",
    "~/ASTR288P/homework/`<your_username`>_hw03.ipynb\n",
    "\n",
    "Remember, my collection scripts are case sensitive!"
   ]
  },
  {
   "cell_type": "markdown",
   "metadata": {},
   "source": [
    "## Coding Questions"
   ]
  },
  {
   "cell_type": "markdown",
   "metadata": {},
   "source": [
    "## 1- Lost in the Delta Quadrant (10 marks)\n",
    "\n",
    "The USS Voyager was stranded in the Delta Quadrant, some 70,000 light years away after being taken there by an entity known as the Caretaker. \n",
    "\n",
    "Voyager was equipped with a state-of-the-art warp drive capable of a maximum warp factor of 9.975 and a cruising warp of 6.5. \n",
    "\n",
    "You can convert Warp to speed using the following equation: \n",
    "$$ \\frac{v}{c} = W^{\\frac{10}{3}} $$\n",
    "where $c$ is the speed of light. \n",
    "To get a value for $c$, use the scipy.constants module (look it up!). You may need to do a conda install scipy in order to import this library.\n",
    "\n",
    "Define a function that takes a warp factor as an argument and returns a velocity in $m/s$, and another that takes light years as an argument an returns meters (so that your units match) and then calculate the following: \n",
    "\n",
    "1. (2 marks) Make a plot of warp factor versus velocity for Warp 1 - Warp 9\n",
    "1. (1 marks) How long would it take in for Voyager to reach Earth assuming a mean speed of Warp 6.5? Give your answer in years.\n",
    "1. (1 marks) What about at maximum warp? \n",
    "1. (2 marks): The original Enterprise (NX-01) could go to \"Neptune and back in six minutes\". Assuming Earth as the starting point, how fast was the Enterprise going in m/s and in Warp units? \n",
    "1. (4 marks): Your program must be able to detect if an incorrect Warp Factor is given. Only Warp Factors $0 <= W < 10$ are valid. If an incorrect warp factor is passed to your program it must **raise** a **ValueError**. There is some information on this in the Lecture 4 notes, but you should also do some reading on-line about how to do this correctly. "
   ]
  },
  {
   "cell_type": "code",
   "execution_count": null,
   "metadata": {
    "collapsed": true
   },
   "outputs": [],
   "source": [
    "##Place your code in this cell. Add more cells if you require them."
   ]
  },
  {
   "cell_type": "markdown",
   "metadata": {},
   "source": [
    "## 2- Stellar Luminosity and Fluxes **(20 marks)** \n",
    "\n",
    "You may have learned in your astronomy classes that a star's luminosity $L$ is related to its temperature $T$ and radius $R$:\n",
    "\n",
    "$$ L = 4 \\pi R^2 \\sigma T^4 $$\n",
    "\n",
    "and the flux of an object scales as the inverse-square of your distance to it: \n",
    "\n",
    "$$ F = \\frac{L}{4 \\pi r^2} $$\n",
    "\n",
    "Write a function that will allow you to calculate the luminosity of a star as a function of its radius and temperature. You will want to **return** this value from the function so that it can be used with others -- printing to screen is usefull for debugging but less so for computing!\n",
    "\n",
    "Next, write a function that allows you to calculate the flux of the star as a function of the distance away from the observer given its luminosity. \n",
    "\n",
    "Using these, produce the following plots: \n",
    "\n",
    "1. Look up the temperature and radius of the stars listed below. Use this to calculate their flux at 100 light years from the observer and plot this on a scatter plot to demonstrate the relative luminosities of these stars.\n",
    "    - Baranrd's star\n",
    "    - Sirius\n",
    "    - Betelgeuse\n",
    "    - Polaris\n",
    "    - Vega\n",
    "1. For the same stars, make a plot of flux verus distance for disatance for 1 light year to 100,000 light years. You do not need to plot the markers, just the line. Make two plots side-by-side, sharing their y-axis but have the plot on the right use a log-scale on the x-axis. **Hint**: Look up the different options for pyplot.subplots. \n",
    "\n",
    "Plotting functions you should look at for this problem:\n",
    "plt.subpl\n",
    "plt.show()\n",
    "\n",
    "**Hint** You might want to use numpy.logspace() to help generate your x-axis values but it isn't neccesary; numpy.linspace() will do fine. You should try them to see what they provide as outputs.\n",
    "\n",
    "**Hint 2** Don't forget to check your units!\n",
    "\n",
    "**Note**: *Always* make sure you label your axes and include a legend in your plot! **You will lose marks if you do not have correct axis labels!**"
   ]
  },
  {
   "cell_type": "code",
   "execution_count": null,
   "metadata": {
    "collapsed": true
   },
   "outputs": [],
   "source": [
    "##Place your code in this cell. Add more cells if you require them."
   ]
  }
 ],
 "metadata": {
  "kernelspec": {
   "display_name": "Python 3",
   "language": "python",
   "name": "python3"
  },
  "language_info": {
   "codemirror_mode": {
    "name": "ipython",
    "version": 3
   },
   "file_extension": ".py",
   "mimetype": "text/x-python",
   "name": "python",
   "nbconvert_exporter": "python",
   "pygments_lexer": "ipython3",
   "version": "3.6.2"
  }
 },
 "nbformat": 4,
 "nbformat_minor": 2
}
