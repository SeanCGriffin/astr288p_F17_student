{
 "cells": [
  {
   "cell_type": "markdown",
   "metadata": {},
   "source": [
    "## ASTR288P Assignment 4\n",
    "Assigned: 2017/10/6 4PM\n",
    "\n",
    "Due:      2017/10/20 2PM\n",
    "\n",
    "## Instructions\n",
    "Please place the answers to these questions in this notebook and place the notebook in\n",
    "\n",
    "~/ASTR288P/homework/`<your_username`>_hw04.ipynb\n",
    "\n",
    "Remember, my collection scripts are case sensitive!"
   ]
  },
  {
   "cell_type": "markdown",
   "metadata": {},
   "source": [
    "## Coding Questions"
   ]
  },
  {
   "cell_type": "markdown",
   "metadata": {},
   "source": [
    "### 1- Statistics! (20 points)\n",
    "\n",
    "### a) Shot Noise (10 points)\n",
    "\n",
    "We discussed briefly in class Gaussian and Poisson distributions. Shot noise (see [https://en.wikipedia.org/wiki/Shot_noise](https://en.wikipedia.org/wiki/Shot_noise)) is an example of random noise that is governed by a Poisson process. \n",
    "\n",
    "$$ P (N = k) = e^{-\\lambda \\Delta t} \\frac{(\\lambda \\Delta t)^k}{k!} $$\n",
    "\n",
    "The function defined below returns the probability $P$ of receiveing $k$ noise photons given a background photon rate of $\\lambda$ photons/second and a time period $t$. \n",
    "\n",
    "The 'background' flux of the night sky can be modeled as Poissonian noise; under dark skies, the night sky background has a flux of roughly \n",
    "$$F_0 = 3\\times10^{12}~\\mathrm{photons/ s/ m^2/ sr}$$\n",
    "in the regime relevant to ground-based gamma-ray telescopes. These telescopes look at very bright but very quick (10s of nanoseconds) long flashes of light. In order to 'trigger' on and save these flashes, these telescopes require a certain numbr of photons (the *trigger threshold*) to arrive within some period of time known as the *trigger window*. \n",
    "\n",
    "Assuming a collection area of $100~\\mathrm{m}^2$, a field of view of $\\sim 2\\times10^{-6}~\\mathrm{sr}$, and assuming that the telescope sensor detects only 30% of all photons, answer the following questions:\n",
    "\n",
    "1. If the telescope trigger requires 5 photons to be seen in a 10ns window, what is the probability that the trigger will be random noise? \n",
    "1. Plot the probability as a function of number of photons ($k$) for three different night sky background values: $F_0$, $5F_0$, and $10F_0$ (corresponding to roughly new moon, and different amounts of moonlight). Plot your results from $k=0$ to $k=30$ photons.\n",
    "1. Demonstrate that as you narrow the trigger window (i.e. require a smaller $\\Delta t$ for arriving photons) the probability of getting a given number of photons decreases by plotting the Poisson probability as a function of trigger window. Do this for $k=3,5,10$. **Hint** This can be made simple by choosing a fixed trigger threshold and changing the trigger window $\\Delta t$. \n",
    "\n",
    "\n",
    "**Make sure your plots have legends and plot axes so I know how to interpret them!**"
   ]
  },
  {
   "cell_type": "code",
   "execution_count": null,
   "metadata": {},
   "outputs": [],
   "source": [
    "%matplotlib inline\n",
    "import numpy as np\n",
    "import matplotlib.pyplot as plt\n",
    "from scipy.misc import factorial\n",
    "\n",
    "def poisson(l,t,k):\n",
    "    '''\n",
    "    parameters: \n",
    "        l : flux\n",
    "        t : time\n",
    "        k : number of photons\n",
    "    '''\n",
    "    return np.exp(-l*t) * ((l*t)**k)/(factorial(k))\n",
    "\n",
    "#this is the number of photons (our x-axis)\n",
    "k = np.array(np.arange(0,30))\n",
    "plt.plot(k, poisson(10*180e6,10e-9,k))\n",
    "plt.plot(k, poisson(5*180e6,10e-9,k))\n",
    "plt.plot(k, poisson(1*180e6,10e-9,k))\n",
    "plt.show()\n",
    "\n",
    "f = np.linspace(0,1,50)\n",
    "plt.plot(f, poisson(5*180e6,f*10e-9,3))\n",
    "plt.plot(f, poisson(5*180e6,f*10e-9,5))\n",
    "plt.plot(f, poisson(5*180e6,f*10e-9,10))\n",
    "plt.show()\n",
    "\n",
    "\n",
    "\n",
    "##Place your code in this cell. Add more cells if you require them.\n"
   ]
  },
  {
   "cell_type": "markdown",
   "metadata": {},
   "source": [
    "### b) Gaussian vs Poissonian (10 points)\n",
    "\n",
    "Look up the definition of a Poisson and Gaussian distribution. Demonstrate that for large mean values, a Poisson distribution and Gaussian distribution look very similar. You will need to know that the standard deviation of a Poisson distribution is the square root of the mean in order to correctly define the Gaussian:\n",
    "$$ \\sigma = \\sqrt{\\mu} $$\n",
    "\n",
    "Please demonstrate this in two ways: \n",
    "1. Use numpy.random like we used in class to generate random numbers to do so, and plot a histogram. You will need to draw a sufficiently large number of random numbers to not be stifled by statistics! Use 100 bins in your histogram.\n",
    "1. Write a function that gives you a Gaussian distribution and then plot it alongside a Poisson distribution defined earlier."
   ]
  },
  {
   "cell_type": "code",
   "execution_count": null,
   "metadata": {
    "collapsed": true
   },
   "outputs": [],
   "source": [
    "##Place your code in this cell. Add more cells if you require them."
   ]
  },
  {
   "cell_type": "markdown",
   "metadata": {},
   "source": [
    "## 2- Slice and Dice (10 marks)\n",
    "\n",
    "In this question we will practice slicing numpy arrays.\n",
    "With the exception of creating and reshaping your initial arrays, you should not have to do any other assignments to complete the question, only slicing."
   ]
  },
  {
   "cell_type": "code",
   "execution_count": null,
   "metadata": {},
   "outputs": [],
   "source": [
    "import numpy as np\n",
    "a = np.linspace(-12,12, 16)\n",
    "print(a)\n",
    "#A)\n",
    "#Slice only the odd-indexed values in the array and print them to screen.\n",
    "#For example, if our array is [2, 12, 20, -99, -57], then all odd-indexed values are 12 and -99.\n",
    "### PLACE YOUR CODE BELOW THIS COMMENT\n",
    "\n",
    "\n",
    "a = np.linspace(-12,12, 21)\n",
    "#B)\n",
    "#Next, provide every 5th value starting with the third value in the array.\n",
    "# HINT: Remember zero-indexing vs one-indexing!\n",
    "#For example, if our array is \n",
    "#[0, 1, 2, 3, 4, 5, 6, 7, 8, 9, 10, 11, 12, 13, 14, 15, 16, 17, 18, 19, 20, 21, 22, 23, 24, 25, 26, 27, 28, 29]\n",
    "# the result is [2, 7, 12, 17, 22, 27]\n",
    "### PLACE YOUR CODE BELOW THIS COMMENT\n",
    "\n",
    "\n",
    "#C)\n",
    "a = np.linspace(-12,12, 21)\n",
    "#Slice from the 5th element to the 3rd-last element.\n",
    "### PLACE YOUR CODE BELOW THIS COMMENT\n",
    "\n",
    "\n",
    "\n",
    "\n",
    "#D)\n",
    "a = np.array(range(16))\n",
    "a = a.reshape((4,4))\n",
    "print(a)\n",
    "#Slice out the first row and first column of the array so that ythe resulting 'view' of the array is\n",
    "#[[5 6 7]\n",
    "# [9 10 11]\n",
    "# [13, 14 15]]\n",
    "### PLACE YOUR CODE BELOW THIS COMMENT\n",
    "\n",
    "\n",
    "#Provide code so that the resulting 'view' of the array is only the four 'middle' elements in the square. \n",
    "#E)\n",
    "#[[5 6]\n",
    "#[9 10]]\n",
    "### PLACE YOUR CODE BELOW THIS COMMENT\n",
    "\n",
    "#Provide code that produces a 3x4x4 matrix (x,y,z coordinates) using the array(), range() and reshape() commands.\n",
    "### PLACE YOUR CODE BELOW THIS COMMENT\n",
    "\n",
    "\n",
    "#Now, produce a 3x3x2 view of the above matrix where \n",
    "#you omit the first row and the first and last column, but keep each 'layer' of the array.\n"
   ]
  },
  {
   "cell_type": "code",
   "execution_count": null,
   "metadata": {
    "collapsed": true
   },
   "outputs": [],
   "source": []
  }
 ],
 "metadata": {
  "kernelspec": {
   "display_name": "Python 3",
   "language": "python",
   "name": "python3"
  },
  "language_info": {
   "codemirror_mode": {
    "name": "ipython",
    "version": 3
   },
   "file_extension": ".py",
   "mimetype": "text/x-python",
   "name": "python",
   "nbconvert_exporter": "python",
   "pygments_lexer": "ipython3",
   "version": "3.6.2"
  }
 },
 "nbformat": 4,
 "nbformat_minor": 2
}
