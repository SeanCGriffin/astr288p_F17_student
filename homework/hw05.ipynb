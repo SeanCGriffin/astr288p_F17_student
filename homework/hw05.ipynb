{
 "cells": [
  {
   "cell_type": "markdown",
   "metadata": {},
   "source": [
    "## ASTR288P Assignment 5\n",
    "Assigned: 2017/11/3 4PM\n",
    "\n",
    "Due:      2017/11/10 2PM\n",
    "\n",
    "## Instructions\n",
    "Please place the answers to these questions in this notebook and place the notebook in\n",
    "\n",
    "~/ASTR288P/homework/`<your_username`>_hw04.ipynb\n",
    "\n",
    "Remember, my collection scripts are case sensitive!"
   ]
  },
  {
   "cell_type": "markdown",
   "metadata": {},
   "source": [
    "## Loading and plotting data.\n",
    "\n",
    "In class, we walked through the process of loading data sets, fitting them, and comparing them. In this assignment, you must repeat the analysis on your own. \n",
    "\n",
    "1. Load both the Fermi and VERITAS datasets into variables:\n",
    "    - ferm_data \n",
    "    - veritas_baseline\n",
    "1. Correct units so that the Y-axis data are in 'dN/dE'; remember the raw data as-is are in E^2 dN/dE format. You will need to convert ergs to GeV. The corrected units should be $\\mathrm{photons/m^2/s/GeV}$. Don't forget to correct the units on the error bars!\n",
    "1. Plot the two datasets on the same canvas -- make sure your units are all correct, label your axes, and use a legend. Use a logarithmic axis for both x- and y. \n",
    "1. Plot the datasets on the same plot but with the y-axis in units of E^2 dN/dE. Your command should look something like plt.plot($E$, $E \\times E \\times flux$ ...). Again, make sure your units are all correct, label your axes, and use a legend. "
   ]
  },
  {
   "cell_type": "code",
   "execution_count": 1,
   "metadata": {
    "collapsed": true
   },
   "outputs": [],
   "source": [
    "# Put your code in this cell. Add more cells if need be."
   ]
  },
  {
   "cell_type": "markdown",
   "metadata": {},
   "source": [
    "## Fitting \n",
    "Recall the **curve_fit** function from scipy.optimize. **curve_fit** returns two values: the **fit parameters** and the **covariance matrix**, and recall that the uncertainties on te fit parameters are given by the square root of the diagonal values in the covariance matrix:\n",
    "```\n",
    "    fit_vals, cov = curve_fit(...)\n",
    "    fit_errors = np.sqrt(np.diag(cov))\n",
    "```\n",
    "Remember, when defining a fit function to pass to **curve_fit**, it must be defined like so:\n",
    "```\n",
    "    def power_law(x, *params)\n",
    "        ...\n",
    "```\n",
    "where \\*params are the parameters you are fitting for. Don't forget that you will probably have to pass curve_fit sensible guess values in order for the fit to converge.\n",
    "\n",
    "1. Write a wrapper function that allows you to fit data only over a given range. Remember, an easy way to do this is to slice the x, y, and y_err arrays with your fit parameters and then pass the sliced arrays into curve_fit.\n",
    "1. Fit the synchrotron region ($E < \\mathrm{1~GeV}$) with a simple power law:\n",
    "$$ \\frac{dN}{dE} = F_0 \\left(\\frac{E}{\\mathrm{1~GeV}}\\right)^{-\\Gamma} $$\n",
    "The fit function to use is defined as:\n",
    "```\n",
    "    def power_law(x, *params):\n",
    "        f0, gamma = params\n",
    "        norm_energy = 1. #GeV\n",
    "        return f0 * pow(x / norm_energy, -gamma)\n",
    "```\n",
    "1. Fit the Inverse Compton region ($E > \\mathrm{1~GeV}$) with a curved power law:\n",
    "$$ \\frac{dN}{dE} = F_0 \\left(\\frac{E}{\\mathrm{1~TeV}}\\right)^{-\\Gamma + \\beta\\log(E / \\mathrm{1~TeV})} $$\n",
    "**Hint**: Modify the powerlaw function to include the additional parameter; don't forget to adjust the normalization energy and your input energies. Units are very important here.\n",
    "1. Now, we will do a combined fit over the entire energy range. Write a function that is the combination of the power law and curved power law. Do not create a brand new function, in stead create a wrapper function that passes some of it's parameters to the power law component and some of its parameters to the power law function you've already defined, and others to the curved power law function you've already defined:\n",
    "```\n",
    "    def combined_fit(x, *params)\n",
    "        return power_law(...) + curved_power_law(...)\n",
    "```\n",
    "To make your combined fit converge\n",
    "1. Produce a plot containing the following:\n",
    "    - The combined Fermi/VERITAS dataset \n",
    "    - Your fit to the synchrotron regime.\n",
    "    - Your fit to the Inverse Compton regime.\n",
    "    - Your combined fit.\n",
    "Don't forget to label your axes (including the correct units) and include a legend.\n",
    "1. Calculate the $\\chi^2 / NDF$ of your fits **over the range for which they are valid**. You can use the $\\chi^2 / NDF$ code given in the lecture notes.\n",
    "1. For each fit, print the parameter names (e.g. F_0, gamma, etc.)  to screen, the fitted parameter values, the uncertainty on the fitted parameters, and the $\\chi^2 / NDF$ value. Remember your significant digits! I do not want to see 7 digits after the decimal point. For example:\n",
    "```\n",
    "    Parameter: F_0 = 2.71 +/- 0.06 ; chi^2 / NDF = 15.4 / 9 = 1.71\n",
    "```"
   ]
  },
  {
   "cell_type": "code",
   "execution_count": null,
   "metadata": {
    "collapsed": true
   },
   "outputs": [],
   "source": []
  }
 ],
 "metadata": {
  "kernelspec": {
   "display_name": "Python 3",
   "language": "python",
   "name": "python3"
  },
  "language_info": {
   "codemirror_mode": {
    "name": "ipython",
    "version": 3
   },
   "file_extension": ".py",
   "mimetype": "text/x-python",
   "name": "python",
   "nbconvert_exporter": "python",
   "pygments_lexer": "ipython3",
   "version": "3.6.3"
  }
 },
 "nbformat": 4,
 "nbformat_minor": 2
}
