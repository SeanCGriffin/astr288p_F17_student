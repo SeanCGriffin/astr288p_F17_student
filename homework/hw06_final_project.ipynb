{
 "cells": [
  {
   "cell_type": "markdown",
   "metadata": {},
   "source": [
    "# Assignment 6 / Final Project\n",
    "Assigned: 2017/11/17 4PM\n",
    "\n",
    "Due:      2017/12/8 12PM **note the time** \n"
   ]
  },
  {
   "cell_type": "markdown",
   "metadata": {},
   "source": [
    "## Instructions\n",
    "\n",
    "The final homework is due on December 8 at **noon**, and you will show the installation and an example computation with your selection of a package from http://ascl.net (pick something you like as science, not something that looks easy). \n",
    "\n",
    "There will be in in-class presentation and discussion on the cases. The way the marking breakdown will be as follows:\n",
    " - Homework 6: Pass / Fail: Make your slides using **LaTeX** and **beamer**. \n",
    " - Presentation: 25% of project grade.\n",
    " - Notebook (see below): 75% of project grade.\n",
    "\n",
    "\n",
    "Your presentation is 10 minutes (which includes question, so perhaps prepare 5 minutes of show and tell). This will be strictly timed so that everyone has a chance to present. The notebook however should tell the whole story. \n",
    "\n",
    "This homework is **due on December 8, at noon** so I can prepare the lecture while you show your results a few hours later.\n",
    "\n",
    "You will need to submit:\n",
    "1. Your latex slides .tex file submitted as <username>_hw06.tex\n",
    "1. Your ipython notebook submitted as <username>_hw06.ipynb, as per usual.\n",
    "\n",
    "In case of doubt: ask me!\n",
    "\n",
    "You can work alone, or in groups of 2 (each person gets the same score).\n",
    "\n",
    "Instead of browsing through the ASCL, you can also try using their fun [random code from ASCL](http://ascl.net/code/random) service, and keep on clicking on the *Another Random Code* button!  You can also use the full text search button in the top right, and browse through the results that way. For example you could search for \"python\" or \"cosmology\"...\n",
    "\n",
    "A few suggestions (I have not verified how well they are suited): \n",
    "1. SunPy\n",
    "1. slimplectic \n",
    "1. Quickclump \n",
    "1. pyflation \n",
    "1. Athena \n",
    "1. PRECESSION\n",
    "1. PRESTO\n",
    "1. Gaepsi\n",
    "\n",
    "# Your Notebook Below\n",
    "\n",
    "If you chose non-Python software, it will obviously be harder to explain using a notebook. That should not stop you from using a non-python code. In those cases use some Markdown cells to document your work, so I can in principle reproduce your results. \n",
    "\n",
    "You are allowed to create some png files and include those (pyplot.savefig). In that case I would suggest you name your png files (or any supporting files) after your username on ursa. For example \"griffins-example01.png\", \"griffins02.tab\", \"griffins_fig3.fits\", ...\n",
    "\n",
    "You will submit your final project in the same way you submit other assignments. "
   ]
  },
  {
   "cell_type": "markdown",
   "metadata": {},
   "source": [
    "# Summary of ASCL [1010.014](http://ascl.net/1010.014) * <--- fill in your code*"
   ]
  },
  {
   "cell_type": "markdown",
   "metadata": {},
   "source": [
    "### 1. Is the documentation sufficient to select this for your project?\n",
    "\n",
    "..."
   ]
  },
  {
   "cell_type": "markdown",
   "metadata": {},
   "source": [
    "### 2. Installation instructions, do I need another compiler or tool or python module?\n",
    "\n",
    "..."
   ]
  },
  {
   "cell_type": "markdown",
   "metadata": {},
   "source": [
    "### 3. Does it come with example files to run the code?\n",
    "\n",
    "..."
   ]
  },
  {
   "cell_type": "markdown",
   "metadata": {},
   "source": [
    "### 4. Do they give a regression test (i.e. can I verify it works)?\n",
    "\n",
    "..."
   ]
  },
  {
   "cell_type": "markdown",
   "metadata": {},
   "source": [
    "### 5. Are there other codes that do (almost) the same thing?\n",
    "\n",
    "..."
   ]
  },
  {
   "cell_type": "markdown",
   "metadata": {
    "collapsed": true
   },
   "source": [
    "### 6. Once it has produced results, what can you do with them?\n",
    "\n",
    "..."
   ]
  },
  {
   "cell_type": "markdown",
   "metadata": {},
   "source": [
    "### 7. Did you need to contact the ASCL or code author?\n",
    "\n",
    "..."
   ]
  }
 ],
 "metadata": {
  "anaconda-cloud": {},
  "kernelspec": {
   "display_name": "Python 3",
   "language": "python",
   "name": "python3"
  },
  "language_info": {
   "codemirror_mode": {
    "name": "ipython",
    "version": 3
   },
   "file_extension": ".py",
   "mimetype": "text/x-python",
   "name": "python",
   "nbconvert_exporter": "python",
   "pygments_lexer": "ipython3",
   "version": "3.6.2"
  }
 },
 "nbformat": 4,
 "nbformat_minor": 1
}
