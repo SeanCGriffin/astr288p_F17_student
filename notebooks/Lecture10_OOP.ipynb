{
 "cells": [
  {
   "cell_type": "markdown",
   "metadata": {},
   "source": [
    "# Lecture 10: Object Oriented Programming"
   ]
  },
  {
   "cell_type": "code",
   "execution_count": null,
   "metadata": {
    "collapsed": true
   },
   "outputs": [],
   "source": [
    "%matplotlib inline"
   ]
  },
  {
   "cell_type": "code",
   "execution_count": null,
   "metadata": {
    "collapsed": true
   },
   "outputs": [],
   "source": [
    "import matplotlib.pyplot as plt\n",
    "import numpy as np"
   ]
  },
  {
   "cell_type": "code",
   "execution_count": null,
   "metadata": {
    "collapsed": true
   },
   "outputs": [],
   "source": [
    "import numpy.random as random"
   ]
  },
  {
   "cell_type": "markdown",
   "metadata": {},
   "source": [
    "Object Oriented Programming is a useful way of working with data. \n",
    "\n",
    "The traditional method of discussing objects and classes is to refer to people. We are all objects of type Person. We have different attributes (birthdate, eye color) which may or may not be unique. \n",
    "\n",
    "There can also be **global** attributes, which are shared across all instances of the person. "
   ]
  },
  {
   "cell_type": "code",
   "execution_count": null,
   "metadata": {},
   "outputs": [],
   "source": [
    "class Person():\n",
    "    #this variable is *static* meaning there is only one instance of it \n",
    "    #for all instances of the class.\n",
    "    population_count = 0\n",
    "    \n",
    "    def __init__(self, name, birthdate, eye_color):\n",
    "        self.name = name\n",
    "        self.birthdate = birthdate\n",
    "        self.eye_color = eye_color\n",
    "        self.__class__.population_count+=1\n",
    "        \n",
    "    def __str__(self):\n",
    "        '''\n",
    "        This function allows us to call the print() function on our custom class.\n",
    "        '''\n",
    "        person_string = \"Name: {0:s}\\n\\tBirthdate: {1:s}\\n\\tEye color: {2:s}\".format(self.name, self.birthdate, self.eye_color)\n",
    "        return person_string\n",
    "    \n",
    "    def __del__(self):\n",
    "        '''\n",
    "        This is a destructor; \n",
    "        It can be used to correctly free memory or modify global variables, or do other things. \n",
    "        '''\n",
    "        print(\"Byebye, {0:s}!\".format(self.name))\n",
    "        self.__class__.population_count-=1\n",
    "    \n",
    "me = Person(\"Sean\", \"October 19\", \"Blue\")\n",
    "print(Person.population_count)\n",
    "janet = Person(\"Janet\", \"February 29\", \"Green\")\n",
    "print(Person.population_count)\n",
    "print(type(me))\n",
    "print(me)\n",
    "print(janet)\n",
    "del me\n",
    "print(Person.population_count)\n",
    "del janet\n",
    "print(Person.population_count)\n",
    "\n",
    "#We can make a large array of people using a loop and *list comprehension*. \n",
    "\n",
    "population = [Person(\"generic\", \"generic\", \"blue\") for i in np.arange(100)]\n",
    "print(Person.population_count)\n"
   ]
  },
  {
   "cell_type": "code",
   "execution_count": null,
   "metadata": {},
   "outputs": [],
   "source": [
    "## This is technically an astronomy class, so let's create an astro-like class.\n",
    "\n",
    "class CelestialBody():\n",
    "    def __init__(self, name, mass = 0.):\n",
    "        '''\n",
    "        A generic celestial object will have a mass and a shape.\n",
    "        params: \n",
    "            name (string): name of the object \n",
    "            mass (float) : mass in kg    \n",
    "            parent (CelestialBody): \n",
    "                the parent celestial body that this one is orbiting\n",
    "        '''\n",
    "        self.name = name\n",
    "        if mass < 0:\n",
    "            raise ValueError(\"Cannot have a negative mass!\")\n",
    "        self.mass = mass\n",
    "\n",
    "    def __str__(self):\n",
    "        return_str = \"Body name: {0:s}\\n\".format(self.name)\n",
    "        return_str += \"Body mass: {0:5.3g} kg\".format(self.mass)\n",
    "        return return_str\n",
    "        \n",
    "planet = CelestialBody(\"Spintax\", 4)\n",
    "print(planet)"
   ]
  },
  {
   "cell_type": "markdown",
   "metadata": {},
   "source": [
    "## Inheritance\n",
    "\n",
    "Inheritance is a concept in OOP wherein new objects can take on the properties of existing objects and classes and expand upon them. The source of the inherited attributes is known as the **base class** or **super class**; the inheriting class is called a **subclass** or **derived class**. "
   ]
  },
  {
   "cell_type": "code",
   "execution_count": null,
   "metadata": {},
   "outputs": [],
   "source": [
    "class Galaxy(CelestialBody):\n",
    "    def __init__(self, name, mass, luminosity):\n",
    "        super().__init__(name, mass)\n",
    "\n",
    "        self.luminosity = luminosity\n",
    "    def __str__(self):\n",
    "        return_str = super().__str__() + \"\\n\" \n",
    "        return_str += \"Luminosity: {0:5.3g} W\".format(self.luminosity)\n",
    "        return return_str\n",
    "        \n",
    "## We can also have multiple subclasses.        \n",
    "class EllipticalGalaxy(Galaxy):\n",
    "    def __init__(self, name, mass, luminosity):\n",
    "        super().__init__(name, mass, luminosity)\n",
    "        #...some things specific to elliptical galaxies\n",
    "        \n",
    "class SpiralGalaxy(Galaxy):\n",
    "    def __init__(self, name, mass, luminosity):\n",
    "        super().__init__(name, mass, luminosity)\n",
    "        #...some things specific to spiral galaxies\n",
    "        \n",
    "milkyway = SpiralGalaxy(\"milky\", 12, 15)\n",
    "print(milkyway)"
   ]
  },
  {
   "cell_type": "markdown",
   "metadata": {},
   "source": [
    "If all these different types were independent, or, say, we used dictionaries to keep track of objects, every time we wanted to change one item we would have to manually change every instance of that object:"
   ]
  },
  {
   "cell_type": "code",
   "execution_count": null,
   "metadata": {
    "collapsed": true
   },
   "outputs": [],
   "source": [
    "milky_way = {\"type\": \"SpiralGalaxy\", \"mass\": 30, \"luminosity\": 10}\n",
    "andromeda = {\"type\": \"SpiralGalaxy\", \"mass\": 35, \"luminosity\": 11}\n",
    "Mrk421 = {\"type\": \"AGN\", \"mass\":10, \"luminosity\": 4}\n",
    "\n",
    "#If we wanted to add an additional key to the spiral galaxies, \n",
    "#we'd have to add it by hand to every instance of a spiral galaxy.\n",
    "#However, doing so in a subclass is trivial: "
   ]
  },
  {
   "cell_type": "code",
   "execution_count": null,
   "metadata": {
    "collapsed": true
   },
   "outputs": [],
   "source": [
    "class SpiralGalaxy(Galaxy):\n",
    "    def __init__(self, name, mass, luminosity, is_barred, parent=None):\n",
    "        super().__init__(name, mass, luminosity, parent)\n",
    "        self.is_barred = is_barred"
   ]
  },
  {
   "cell_type": "code",
   "execution_count": null,
   "metadata": {
    "collapsed": true
   },
   "outputs": [],
   "source": [
    "# We can even go back and modify the parent class to add an attribute to all Galaxy objects:\n",
    "\n",
    "class Galaxy(CelestialBody):\n",
    "    def __init__(self, name, mass, luminosity, hubble_type, parent=None):\n",
    "        super().__init__(name, mass, luminosity, parent=parent)\n",
    "        self.hubble_type = hubble_type"
   ]
  },
  {
   "cell_type": "markdown",
   "metadata": {},
   "source": [
    "Redefining classes like this isn't a great idea; if we re-execute the wrong cells we might break things. So, let's create our own python module. This is easy. Then we can import the module like any other Python module. "
   ]
  },
  {
   "cell_type": "markdown",
   "metadata": {},
   "source": [
    "We will also use a new **magic** command called **autoreload**. This means that every time the cell is executed, the modules are reloaded. Otherwise, we would have to reset the notebook every time we made changes. This is because when python module is loaded in a notebook, it is loaded only once, so any changes are not registered.\n",
    "\n"
   ]
  },
  {
   "cell_type": "code",
   "execution_count": null,
   "metadata": {
    "collapsed": true
   },
   "outputs": [],
   "source": [
    "%load_ext autoreload\n",
    "%autoreload 2\n",
    "\n",
    "import celestial_body as cb"
   ]
  },
  {
   "cell_type": "code",
   "execution_count": null,
   "metadata": {},
   "outputs": [],
   "source": [
    "some_planet = CelestialBody(\"Ceti Alpha V\", 4.4e12)\n",
    "print(some_planet)"
   ]
  },
  {
   "cell_type": "markdown",
   "metadata": {},
   "source": [
    "Exercise for the student: \n",
    "\n",
    "We covered galaxies, but what about what goes into a solar system? What different classes and sub-classes can you think of? Start off by thinking about the different kind of objects in our solar system (I can think of 4 basic classes, and at least two different subclasses **hint** think Jupiter vs Earth.)\n",
    "\n",
    "Add these subclasses to celestial_body.py and see if you can come up with a few different characteristics to describe the various subclasses. Maybe you want a planet to have a \"has_moon\" attribute? Is a moon a CelestialBody?  Give it some thought. Come up with different characteristics for the various subclasses. \n",
    "\n",
    "How would you implement something like \"object X is orbiting object Y\"? (e.g. could objects have \"parents\" and \"children\"). "
   ]
  },
  {
   "cell_type": "code",
   "execution_count": null,
   "metadata": {
    "collapsed": true
   },
   "outputs": [],
   "source": []
  }
 ],
 "metadata": {
  "kernelspec": {
   "display_name": "Python 3",
   "language": "python",
   "name": "python3"
  },
  "language_info": {
   "codemirror_mode": {
    "name": "ipython",
    "version": 3
   },
   "file_extension": ".py",
   "mimetype": "text/x-python",
   "name": "python",
   "nbconvert_exporter": "python",
   "pygments_lexer": "ipython3",
   "version": "3.6.2"
  }
 },
 "nbformat": 4,
 "nbformat_minor": 2
}
