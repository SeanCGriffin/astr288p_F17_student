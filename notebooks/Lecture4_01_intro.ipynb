{
 "cells": [
  {
   "cell_type": "markdown",
   "metadata": {},
   "source": [
    "# Python Intro\n",
    "\n",
    "## Notebooks\n",
    "\n",
    "What you are reading here is text in a cell in a notebook. A notebook can have many cells. This is a text (really: markdown) cell. It can display text, math, include figures etc. The next cell will contain some python code that you can execute in the browser. You can see this from the ** In [ ]:** prompt.\n",
    "\n",
    "But before that, let's show off with some math, $c^2 = a^2 + b^2$ and also\n",
    "$$\n",
    "{{G M(r)} \\over {r^2} } = { v^2 \\over r}\n",
    "$$\n",
    "which should look familiar to most of you. We will come back to this.\n",
    "\n",
    "\n",
    "Add a sentence in real time with spelling errors! \n",
    "\n",
    "$$\n",
    "F = m \\times a\n",
    "$$"
   ]
  },
  {
   "cell_type": "markdown",
   "metadata": {},
   "source": [
    "# 1st leave heading:  Markdown formatting\n",
    "\n",
    "\n",
    "Making a bullet list\n",
    "\n",
    "* a list\n",
    "* uses stars\n",
    "* for bullets\n",
    "\n",
    "## 2nd level heading\n",
    "\n",
    "Or an enumerated list, but it looks weird in raw format. Double click on this cell!\n",
    "\n",
    "1. first\n",
    "1. second\n",
    "1. third\n",
    "1. reddit\n",
    "\n",
    "\n",
    "### 3rd level heading\n",
    "And [this link](http://www.astro.umd.edu/~teuben/ASTR288P/) is created with `[...](...)`, where you should note the use of the back-ticks.\n"
   ]
  },
  {
   "cell_type": "markdown",
   "metadata": {},
   "source": [
    "## python variables"
   ]
  },
  {
   "cell_type": "code",
   "execution_count": null,
   "metadata": {},
   "outputs": [],
   "source": [
    "# Python, as opposed to other languages, has dynamic types. \n",
    "# In (e.g.) C, you need to declare variable types that in general cannot be mixed. \n",
    "# int variable_1 = 1;\n",
    "# float variable_2 = 38.44\n",
    "# In Python, we can now do something like: \n",
    "\n",
    "a = 1.  #This is a float\n",
    "b = 2   #This is an integer\n",
    "c = \"344444str\" #This is a string\n",
    "\n",
    "print(a,b,c)\n",
    "\n",
    "# and then do this: \n",
    "\n",
    "c = 3.1\n",
    "print(a,b,c)\n",
    "c = \"string\"\n",
    "#in C this would cause an error!"
   ]
  },
  {
   "cell_type": "markdown",
   "metadata": {},
   "source": [
    "In order to execute this python code, click on the cell to activate it, then using the SHIFT-ENTER key. Note that as soon as the cell has executed, the **In[]** (a python list) has obtained a sequence number. More on those later."
   ]
  },
  {
   "cell_type": "code",
   "execution_count": null,
   "metadata": {},
   "outputs": [],
   "source": [
    "#  another way of output\n",
    "print(\"a=\",a,\"b=\",b,\"c=\",c)"
   ]
  },
  {
   "cell_type": "code",
   "execution_count": null,
   "metadata": {},
   "outputs": [],
   "source": [
    "# yet another way of output\n",
    "print(\"a=%s  b=%s  c=%d\" % (a,b,c))"
   ]
  },
  {
   "cell_type": "code",
   "execution_count": null,
   "metadata": {},
   "outputs": [],
   "source": [
    "# and yet another way of output\n",
    "print(\"a=%s  b=%s  c=%s\" % (str(a),str(b),str(c)))"
   ]
  },
  {
   "cell_type": "code",
   "execution_count": null,
   "metadata": {},
   "outputs": [],
   "source": [
    "a = 9.3188\n",
    "b = 543\n",
    "c = \"Twelve\"\n",
    "\n",
    "print(\"{0:g} {1:d} {2:s}\".format(a,b,c))\n",
    "#notice the difference:\n",
    "print(\"Flux={1:g} Space={0:d} Friday={2:s}\".format(b,a,c))"
   ]
  },
  {
   "cell_type": "code",
   "execution_count": null,
   "metadata": {},
   "outputs": [],
   "source": [
    "# More on formatting:\n",
    "\n",
    "print(\"{0:8.3g}\".format(a))\n",
    "print(\"{0:8d}\".format(b))\n",
    "print(\"{0:8s}\".format(c))\n",
    "\n",
    "print(\"\\n------\\n\")\n",
    "print(\"{0:08.3g}\".format(a))\n",
    "print(\"{0:08d}\".format(b))\n",
    "print(\"{0:8s}\".format(c))"
   ]
  },
  {
   "cell_type": "code",
   "execution_count": null,
   "metadata": {},
   "outputs": [],
   "source": [
    "# find out the types of variables\n",
    "print(type(a),type(b),type(c))"
   ]
  },
  {
   "cell_type": "markdown",
   "metadata": {},
   "source": [
    "# A little more on python data structures\n",
    "\n",
    "Next to dynamic typing, one of the powers of python are a number of built-in data structures (lists, dictionaries, tuples and sets) that together with their built-in operators make for a very flexible scripting language.  Here is a quick summary how you would initialize them in python:\n",
    "\n",
    "| data type |   assignment example  |   len(a)   |\n",
    "| --------- | --------------------- | ---------- |\n",
    "| list        | a = [1,2,3] |  3  |\n",
    "| tuple      | a = (1,2,3)|  3  |\n",
    "| dictionary  |   a = {'1':1 ,'2':2 , '3':3}|  3  |\n",
    "| set        |  a = {1,2,3,2,1}|  3 |"
   ]
  },
  {
   "cell_type": "markdown",
   "metadata": {},
   "source": [
    "## python list\n"
   ]
  },
  {
   "cell_type": "code",
   "execution_count": null,
   "metadata": {},
   "outputs": [],
   "source": [
    "# we saw the assignment:\n",
    "a = [1,2,3]\n",
    "print(len(a))\n",
    "\n",
    "# a zero-length list is ok too\n",
    "a = []\n",
    "print(len(a))\n",
    "\n",
    "# but if you need a lot more, typing becomes tedious, python has a shortcut\n",
    "a = list(range(10,100,5))\n",
    "print(a)\n",
    "\n",
    "# notice something odd with the last number?"
   ]
  },
  {
   "cell_type": "code",
   "execution_count": null,
   "metadata": {},
   "outputs": [],
   "source": [
    "# slicing and copying\n",
    "b=a[3:7:2]\n",
    "#b[0]=0\n",
    "print(b)\n",
    "print(a)"
   ]
  },
  {
   "cell_type": "code",
   "execution_count": null,
   "metadata": {},
   "outputs": [],
   "source": [
    "a.reverse()\n",
    "print(a)"
   ]
  },
  {
   "cell_type": "markdown",
   "metadata": {},
   "source": [
    "Two short notes on python lists:\n",
    "* The data types inside of a list don't have to be all the same.\n",
    "```\n",
    "    a = [1.0, 2, \"3\", [1.0, 2, \"3\"], range(10,20,2)]\n",
    "```\n",
    "\n",
    "\n",
    "* Each python object can have a number of member function. In a notebook you can find out about these:\n",
    "  * **google**, stackoverflow, e.g. the online manuals https://docs.python.org/2/tutorial/datastructures.html#more-on-lists\n",
    "\n",
    "  * the inline **```dir()```** method in python\n",
    "  ```\n",
    "  dir(a)\n",
    "  ```\n",
    "  not very informative, but it does remind you of the names\n",
    "  * python **introspection**\n",
    "  ```\n",
    "  import inspect\n",
    "  inspect.getmembers(a)\n",
    "  ```\n",
    "  * Use the ipython or notebook **TAB completion**:  For our object ```a``` typing ```a.<TAB>``` should show a list of possible completions, move your cursor to the desired one"
   ]
  },
  {
   "cell_type": "code",
   "execution_count": null,
   "metadata": {},
   "outputs": [],
   "source": [
    "print(a)\n",
    "a.append(\"sean\")\n",
    "print(a)\n"
   ]
  },
  {
   "cell_type": "code",
   "execution_count": null,
   "metadata": {},
   "outputs": [],
   "source": [
    "a = [1,2,3]\n",
    "print(\"assigning a slice\")\n",
    "b=a[:]\n",
    "print(\"a=\",a)\n",
    "print(\"b=\",b)\n",
    "print(\"---\")\n",
    "b[0] = 0\n",
    "print(\"a=\",a)\n",
    "print(\"b=\",b)\n",
    "print(\"\\n\")"
   ]
  },
  {
   "cell_type": "code",
   "execution_count": null,
   "metadata": {},
   "outputs": [],
   "source": [
    "a = [1,2,3]\n",
    "print(\"simple assignment\")\n",
    "print(\"a=\",a)\n",
    "print(\"b=\",b)\n",
    "\n",
    "b=a\n",
    "b[0] = 0\n",
    "print(\"a=\",a)\n",
    "print(\"b=\",b)\n",
    "print(\"---\")\n",
    "#change an element in 'a'\n",
    "a[0] = 5\n",
    "print(\"a=\",a)\n",
    "print(\"b=\",b)\n",
    "print(\"---\")\n",
    "#change an element in 'b'\n",
    "b[2] = 0\n",
    "print(\"a=\",a)\n",
    "print(\"b=\",b)"
   ]
  },
  {
   "cell_type": "markdown",
   "metadata": {
    "collapsed": true
   },
   "source": [
    "You can also address the last elements in a list, array, etc. by using:"
   ]
  },
  {
   "cell_type": "code",
   "execution_count": null,
   "metadata": {},
   "outputs": [],
   "source": [
    "a = list(range(10,102,5))\n",
    "print(a)\n",
    "\n",
    "print(\"Last entry in a: {0:d}\".format(a[-1]))\n",
    "print(\"Second-last entry in the variable a: {0:d}\".format(a[-2]))\n",
    "print()\n",
    "#This works for strings, too:\n",
    "c = \"This is a long string\"\n",
    "\n",
    "print(\"Last entry in a: {0:s}\".format(c[-1]))\n",
    "print(\"Second-last entry in a: {0:s}\".format(c[-2]))"
   ]
  },
  {
   "cell_type": "code",
   "execution_count": null,
   "metadata": {},
   "outputs": [],
   "source": [
    "length = len(a)\n",
    "print(length)"
   ]
  },
  {
   "cell_type": "code",
   "execution_count": null,
   "metadata": {},
   "outputs": [],
   "source": [
    "a[length-1]"
   ]
  },
  {
   "cell_type": "code",
   "execution_count": null,
   "metadata": {},
   "outputs": [],
   "source": [
    "a[-7]"
   ]
  },
  {
   "cell_type": "code",
   "execution_count": null,
   "metadata": {},
   "outputs": [],
   "source": [
    "print(c[-7])"
   ]
  },
  {
   "cell_type": "code",
   "execution_count": null,
   "metadata": {
    "collapsed": true
   },
   "outputs": [],
   "source": []
  },
  {
   "cell_type": "code",
   "execution_count": null,
   "metadata": {
    "collapsed": true
   },
   "outputs": [],
   "source": []
  },
  {
   "cell_type": "code",
   "execution_count": null,
   "metadata": {
    "collapsed": true
   },
   "outputs": [],
   "source": []
  }
 ],
 "metadata": {
  "anaconda-cloud": {},
  "kernelspec": {
   "display_name": "Python 3",
   "language": "python",
   "name": "python3"
  },
  "language_info": {
   "codemirror_mode": {
    "name": "ipython",
    "version": 3
   },
   "file_extension": ".py",
   "mimetype": "text/x-python",
   "name": "python",
   "nbconvert_exporter": "python",
   "pygments_lexer": "ipython3",
   "version": "3.6.2"
  }
 },
 "nbformat": 4,
 "nbformat_minor": 1
}
