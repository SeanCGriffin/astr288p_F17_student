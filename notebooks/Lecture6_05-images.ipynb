{
 "cells": [
  {
   "cell_type": "markdown",
   "metadata": {},
   "source": [
    "# Lecture 6: Rows, Columns, Images\n",
    "\n",
    "Two dimensional data arrays are normally stored in column-major or row-major order. In row-major order adjacent elements in a row are stored next to each other in memory. In column-major order adjacent elements in a column are stored next to each other in memory. See also https://en.wikipedia.org/wiki/Matrix_representation\n",
    "\n",
    "\n",
    "For the usual mathematical matrix notation $A_{ij}$, where $i$ is the row, and $j$ the column, we have in the case of a $3x4$ matrix:\n",
    "$$\n",
    "A = \\begin{bmatrix}\n",
    "a_{11} & a_{12} & a_{13} & a_{14}\\\\\n",
    "a_{21} & a_{22} & a_{23} & a_{24}\\\\\n",
    "a_{31} & a_{32} & a_{33} & a_{34}\\\\\n",
    "\\end{bmatrix}\n",
    "$$\n",
    "or (zero-indexed):\n",
    "$$\n",
    "A = \\begin{bmatrix}\n",
    "a_{00} & a_{01} & a_{02} & a_{03}\\\\\n",
    "a_{10} & a_{11} & a_{12} & a_{13}\\\\\n",
    "a_{20} & a_{21} & a_{33} & a_{23}\\\\\n",
    "\\end{bmatrix}\n",
    "$$\n",
    "Classic languages such as Fortran store their arrays in so-called column-major order. **FDATA(NR,NC)**, and indices started at 1 with the first versions.\n",
    "More modern language, such a C, store their arrays in row-major order,  **CDATA[NR][NC]**, with indices starting at 0.\n",
    "```\n",
    "    col major:   fdata(1,1),  fdata(2,1), ...        first index runs fastest \n",
    "    row major:   cdata[0][0], cdata[0][1], ...       last index runs fastest  \n",
    "```\n",
    "Examples of column major are: Fortran, [FITS], MatLab, IDL, R, Julia\n",
    "\n",
    "Examples of row major are: C, Python, (java)\n",
    "\n",
    "Images are often referred to in X and Y coordinates, like a mathematical system. The origin would be at (0,0) in the lower left corner. Image processing software normally puts the (0,0) origin at the top left corner, which corresponds a bit how the matrix above is printed. This, together with row-major and column-major can make it challenging to interchange data and plot them on the screen.\n",
    "\n",
    "Add to this that for very large data, re-ordering axes can be a very expensive operation.\n",
    "\n",
    "See also https://en.wikipedia.org/wiki/Iliffe_vector for another view on storing data in multi-dimensional arrays. "
   ]
  },
  {
   "cell_type": "code",
   "execution_count": 1,
   "metadata": {
    "collapsed": true
   },
   "outputs": [],
   "source": [
    "%matplotlib inline\n",
    "import matplotlib.pyplot as plt\n",
    "\n",
    "import numpy as np\n",
    "from astropy.io import fits         "
   ]
  },
  {
   "cell_type": "markdown",
   "metadata": {},
   "source": [
    "Get the Header-Data-Units (hdu's) from a fits file. This particular one only has 1."
   ]
  },
  {
   "cell_type": "code",
   "execution_count": 2,
   "metadata": {},
   "outputs": [
    {
     "name": "stdout",
     "output_type": "stream",
     "text": [
      "1\n"
     ]
    }
   ],
   "source": [
    "hdu = fits.open('../data/cube432.fits')\n",
    "print(len(hdu))"
   ]
  },
  {
   "cell_type": "code",
   "execution_count": 34,
   "metadata": {},
   "outputs": [
    {
     "name": "stdout",
     "output_type": "stream",
     "text": [
      "(2, 3, 4)\n",
      "[[[   0.    1.    2.    3.]\n",
      "  [  10.   11.   12.   13.]\n",
      "  [  20.   21.   22.   23.]]\n",
      "\n",
      " [[ 100.  101.  102.  103.]\n",
      "  [ 110.  111.  112.  113.]\n",
      "  [ 120.  121.  122.  123.]]]\n"
     ]
    }
   ],
   "source": [
    "h = hdu[0].header\n",
    "d = hdu[0].data\n",
    "print(d.shape)\n",
    "print(d)\n",
    "\n"
   ]
  },
  {
   "cell_type": "code",
   "execution_count": 18,
   "metadata": {},
   "outputs": [
    {
     "name": "stdout",
     "output_type": "stream",
     "text": [
      "[[ 100.  101.  102.  103.]\n",
      " [ 110.  111.  112.  113.]\n",
      " [ 120.  121.  122.  123.]]\n"
     ]
    },
    {
     "data": {
      "text/plain": [
       "array([[ 101.,  102.],\n",
       "       [ 111.,  112.],\n",
       "       [ 121.,  122.]], dtype=float32)"
      ]
     },
     "execution_count": 18,
     "metadata": {},
     "output_type": "execute_result"
    }
   ],
   "source": [
    "f=d[1,:,:]\n",
    "print(f)\n",
    "\n",
    "f[:,1:3]"
   ]
  },
  {
   "cell_type": "markdown",
   "metadata": {},
   "source": [
    "This 4x3x2 matrix can actually also be generated from scratch using basic numpy:"
   ]
  },
  {
   "cell_type": "code",
   "execution_count": 31,
   "metadata": {},
   "outputs": [
    {
     "name": "stdout",
     "output_type": "stream",
     "text": [
      "[[[   0.    1.    2.    3.]\n",
      "  [  10.   11.   12.   13.]\n",
      "  [  20.   21.   22.   23.]]\n",
      "\n",
      " [[ 100.  101.  102.  103.]\n",
      "  [ 110.  111.  112.  113.]\n",
      "  [ 120.  121.  122.  123.]]]\n"
     ]
    },
    {
     "data": {
      "text/plain": [
       "(2, 3, 4)"
      ]
     },
     "execution_count": 31,
     "metadata": {},
     "output_type": "execute_result"
    }
   ],
   "source": [
    "\n",
    "\n",
    "d1 = np.zeros(2*3*4).reshape(2,3,4)\n",
    "dimensions = d1.shape\n",
    "for z in range(dimensions[0]):\n",
    "    for y in range(dimensions[1]):\n",
    "        for x in range(dimensions[2]):\n",
    "            d1[z,y,x] = x + 10*y + 100*z\n",
    "print(d1)\n",
    "\n",
    "\n",
    "d1.shape"
   ]
  },
  {
   "cell_type": "code",
   "execution_count": 22,
   "metadata": {},
   "outputs": [
    {
     "data": {
      "text/plain": [
       "array([[[ 0,  1,  2,  3],\n",
       "        [ 4,  5,  6,  7],\n",
       "        [ 8,  9, 10, 11]],\n",
       "\n",
       "       [[12, 13, 14, 15],\n",
       "        [16, 17, 18, 19],\n",
       "        [20, 21, 22, 23]]])"
      ]
     },
     "execution_count": 22,
     "metadata": {},
     "output_type": "execute_result"
    }
   ],
   "source": [
    "np.arange(2*3*4).reshape((2,3,4))"
   ]
  },
  {
   "cell_type": "code",
   "execution_count": 32,
   "metadata": {},
   "outputs": [
    {
     "name": "stdout",
     "output_type": "stream",
     "text": [
      "[   0.    1.    2.    3.   10.   11.   12.   13.   20.   21.   22.   23.\n",
      "  100.  101.  102.  103.  110.  111.  112.  113.  120.  121.  122.  123.]\n"
     ]
    }
   ],
   "source": [
    "print(d1.flatten())"
   ]
  },
  {
   "cell_type": "code",
   "execution_count": 33,
   "metadata": {},
   "outputs": [
    {
     "name": "stdout",
     "output_type": "stream",
     "text": [
      "[[[   0.    1.    2.    3.]\n",
      "  [  10.   11.   12.   13.]\n",
      "  [  20.   21.   22.   23.]]\n",
      "\n",
      " [[ 100.  101.  102.  103.]\n",
      "  [ 110.  111.  112.  113.]\n",
      "  [ 120.  121.  122.  123.]]]\n",
      "[[[   0.    1.    2.    3.]\n",
      "  [  10.   11.   12.   13.]\n",
      "  [  20.   21.   22.   23.]]\n",
      "\n",
      " [[ 100.  101.  102.  103.]\n",
      "  [ 110.  111.  112.  113.]\n",
      "  [ 120.  121.  122.  123.]]]\n"
     ]
    },
    {
     "data": {
      "text/plain": [
       "True"
      ]
     },
     "execution_count": 33,
     "metadata": {},
     "output_type": "execute_result"
    }
   ],
   "source": [
    "# are two arrays the same (or close enough?)\n",
    "print(d)\n",
    "print(d1)\n",
    "np.allclose(d,d1)"
   ]
  },
  {
   "cell_type": "markdown",
   "metadata": {},
   "source": [
    "## More slicing examples\n",
    "\n",
    "For a 3-D array, you can think of things being indexed as [z,y,x]. Thus, a 2x3x4 matrix looks like what we have defined above."
   ]
  },
  {
   "cell_type": "code",
   "execution_count": 35,
   "metadata": {},
   "outputs": [
    {
     "name": "stdout",
     "output_type": "stream",
     "text": [
      "[[[   0.    1.    2.    3.]\n",
      "  [  10.   11.   12.   13.]\n",
      "  [  20.   21.   22.   23.]]\n",
      "\n",
      " [[ 100.  101.  102.  103.]\n",
      "  [ 110.  111.  112.  113.]\n",
      "  [ 120.  121.  122.  123.]]]\n",
      "[[ 100.  101.  102.  103.]\n",
      " [ 110.  111.  112.  113.]\n",
      " [ 120.  121.  122.  123.]]\n",
      "[ 100.  101.]\n",
      "[ 100.  110.]\n",
      "[[ 101.  102.  103.]\n",
      " [ 111.  112.  113.]]\n",
      "[[ 111.  112.]\n",
      " [ 121.  122.]]\n"
     ]
    }
   ],
   "source": [
    "d1 = np.zeros(2*3*4).reshape(2,3,4)\n",
    "for z in range(2):\n",
    "    for y in range(3):\n",
    "        for x in range(4):\n",
    "            d1[z,y,x] = x + 10*y + 100*z\n",
    "print(d1)\n",
    "\n",
    "print(d1[1])\n",
    "print(d1[1,0,0:2])\n",
    "print(d1[1,0:2,0])\n",
    "print(d1[1,0:2,1::])\n",
    "print(d1[1,1:3,1:-1])"
   ]
  },
  {
   "cell_type": "code",
   "execution_count": 38,
   "metadata": {},
   "outputs": [
    {
     "name": "stdout",
     "output_type": "stream",
     "text": [
      "[[[   0.    1.    2.    3.]\n",
      "  [  10.   11.   12.   13.]\n",
      "  [  20.   21.   22.   23.]]\n",
      "\n",
      " [[ 100.  101.  102.  103.]\n",
      "  [ 110.  111.  112.  113.]\n",
      "  [ 120.  121.  122.  123.]]]\n",
      "[[ 100.  101.  102.  103.]\n",
      " [ 110.  111.  112.  113.]\n",
      " [ 120.  121.  122.  123.]]\n",
      "[[  1.   2.   3.]\n",
      " [ 11.  12.  13.]\n",
      " [ 21.  22.  23.]]\n"
     ]
    }
   ],
   "source": [
    "d1 = np.zeros(2*3*4).reshape(2,3,4)\n",
    "for z in range(2):\n",
    "    for y in range(3):\n",
    "        for x in range(4):\n",
    "            d1[z,y,x] = x + 10*y + 100*z\n",
    "print(d1)\n",
    "\n",
    "print(d1[1])\n",
    "print(d1[0,:,1:])"
   ]
  },
  {
   "cell_type": "markdown",
   "metadata": {},
   "source": [
    "## Manipulating Axes\n",
    "\n",
    "We now want to take a plane from this cube, and plot this in a heatmap or contour map. We are now faced deciding how columns and rows translate to X and Y on a plot. Math, Astronomy, Geography and Image Processing groups all differ a bit how they prefer to see this, so numpy comes  with a number of function to help you with this:\n",
    "\n",
    "* np.reshape\n",
    "* np.transpose (or T)\n",
    "* np.flipud\n",
    "* np.fliprd\n",
    "* np.rot90\n",
    "* np.swapaxes\n",
    "* np.moveaxis\n",
    "\n",
    "the important thing to realize is that they all give a new **view** of the array, which often is more efficient as moving the actual values."
   ]
  },
  {
   "cell_type": "code",
   "execution_count": 39,
   "metadata": {
    "scrolled": true
   },
   "outputs": [
    {
     "name": "stdout",
     "output_type": "stream",
     "text": [
      "[[  0.   1.   2.   3.]\n",
      " [ 10.  11.  12.  13.]\n",
      " [ 20.  21.  22.  23.]]\n"
     ]
    },
    {
     "data": {
      "text/plain": [
       "<matplotlib.colorbar.Colorbar at 0x7fa6b5aeb400>"
      ]
     },
     "execution_count": 39,
     "metadata": {},
     "output_type": "execute_result"
    },
    {
     "data": {
      "image/png": "[encoded data removed]",
      "text/plain": [
       "<matplotlib.figure.Figure at 0x7fa6b5b71cc0>"
      ]
     },
     "metadata": {},
     "output_type": "display_data"
    }
   ],
   "source": [
    "p0 = d[0,:,:]\n",
    "p1 = d[1,:,:]\n",
    "print(p0)\n",
    "plt.imshow(p0)\n",
    "plt.colorbar()"
   ]
  },
  {
   "cell_type": "code",
   "execution_count": 41,
   "metadata": {},
   "outputs": [
    {
     "data": {
      "text/plain": [
       "<matplotlib.image.AxesImage at 0x7fa6b2fd2f28>"
      ]
     },
     "execution_count": 41,
     "metadata": {},
     "output_type": "execute_result"
    },
    {
     "data": {
      "image/png": "[encoded data removed]",
      "text/plain": [
       "<matplotlib.figure.Figure at 0x7fa6b308acf8>"
      ]
     },
     "metadata": {},
     "output_type": "display_data"
    }
   ],
   "source": [
    "plt.matshow(p0,origin='lower')"
   ]
  },
  {
   "cell_type": "markdown",
   "metadata": {},
   "source": [
    "Note that for a small 4x3 matrix this image has been artificially made smooth by interpolating in imshow(); however you can already see that the integer coordinates are at the center of a cell:  (0.0) is the center of the lower left cell. This is a little more obvious when you turn off interpolation:\n"
   ]
  },
  {
   "cell_type": "code",
   "execution_count": 42,
   "metadata": {},
   "outputs": [
    {
     "data": {
      "text/plain": [
       "<matplotlib.colorbar.Colorbar at 0x7fa6b2f63550>"
      ]
     },
     "execution_count": 42,
     "metadata": {},
     "output_type": "execute_result"
    },
    {
     "data": {
      "image/png": "[encoded data removed]",
      "text/plain": [
       "<matplotlib.figure.Figure at 0x7fa6b301ddd8>"
      ]
     },
     "metadata": {},
     "output_type": "display_data"
    }
   ],
   "source": [
    "plt.imshow(p0,interpolation='none')\n",
    "plt.colorbar()"
   ]
  },
  {
   "cell_type": "markdown",
   "metadata": {},
   "source": [
    "if you want to print the array values on the terminal with 0 at the bottom left, use the np.flipup() function:"
   ]
  },
  {
   "cell_type": "code",
   "execution_count": 43,
   "metadata": {},
   "outputs": [
    {
     "name": "stdout",
     "output_type": "stream",
     "text": [
      "[[ 20.  21.  22.  23.]\n",
      " [ 10.  11.  12.  13.]\n",
      " [  0.   1.   2.   3.]]\n"
     ]
    },
    {
     "data": {
      "text/plain": [
       "<matplotlib.colorbar.Colorbar at 0x7fa6b30718d0>"
      ]
     },
     "execution_count": 43,
     "metadata": {},
     "output_type": "execute_result"
    },
    {
     "data": {
      "image/png": "[encoded data removed]",
      "text/plain": [
       "<matplotlib.figure.Figure at 0x7fa6b5c3b358>"
      ]
     },
     "metadata": {},
     "output_type": "display_data"
    }
   ],
   "source": [
    "print(np.flipud(p0))\n",
    "plt.imshow(np.flipud(p0),interpolation='none')\n",
    "plt.colorbar()"
   ]
  },
  {
   "cell_type": "code",
   "execution_count": 44,
   "metadata": {},
   "outputs": [
    {
     "name": "stdout",
     "output_type": "stream",
     "text": [
      "6 4\n",
      "[0 1 2 3] [False False  True False]\n"
     ]
    }
   ],
   "source": [
    "import numpy.ma as ma\n",
    "\n",
    "a = np.arange(4)\n",
    "am = ma.masked_equal(a,2)\n",
    "print(a.sum(),am.sum())\n",
    "print(am.data,am.mask)"
   ]
  },
  {
   "cell_type": "markdown",
   "metadata": {},
   "source": [
    "### Arrray Transposing"
   ]
  },
  {
   "cell_type": "code",
   "execution_count": 45,
   "metadata": {},
   "outputs": [
    {
     "name": "stdout",
     "output_type": "stream",
     "text": [
      "1030200\n",
      "-1.0856306033\n",
      "-1.0856306033\n",
      "CPU times: user 72 ms, sys: 16 ms, total: 88 ms\n",
      "Wall time: 153 ms\n"
     ]
    }
   ],
   "source": [
    "%%time\n",
    "n = 100\n",
    "n1 = n  \n",
    "n2 = n+1 \n",
    "n3 = n+2\n",
    "np.random.seed(123)\n",
    "a = np.random.normal(size=n1*n2*n3).reshape(n1,n2,n3)\n",
    "print(len(a.flatten()))\n",
    "print(a[0,0,0])\n",
    "a.flatten()[0]=-1\n",
    "print(a[0,0,0])          # how come?"
   ]
  },
  {
   "cell_type": "code",
   "execution_count": null,
   "metadata": {
    "collapsed": true
   },
   "outputs": [],
   "source": [
    "%%time\n",
    "b = a.transpose()\n",
    "# note B is another view of A"
   ]
  },
  {
   "cell_type": "markdown",
   "metadata": {},
   "source": [
    "## Inner and Outer loop order of execution\n",
    "\n",
    "Set up a (random) square matrix and vector. Multiply the matrix with a vector and measure the performance difference if you order the loops differently."
   ]
  },
  {
   "cell_type": "code",
   "execution_count": null,
   "metadata": {
    "collapsed": true
   },
   "outputs": [],
   "source": [
    "%%time \n",
    "n = 2\n",
    "m = n+1\n",
    "np.random.seed(123)\n",
    "a = np.random.normal(size=m*n).reshape(m,n)\n",
    "x = np.random.normal(size=n)\n",
    "print(x[0])\n",
    "#\n",
    "#a = np.arange(n*n).reshape(n,n)\n",
    "#x = np.arange(n)"
   ]
  },
  {
   "cell_type": "code",
   "execution_count": null,
   "metadata": {
    "collapsed": true
   },
   "outputs": [],
   "source": [
    "%%time\n",
    "b = np.matmul(a,x)\n",
    "print(a.shape,x.shape,b.shape)"
   ]
  },
  {
   "cell_type": "code",
   "execution_count": null,
   "metadata": {
    "collapsed": true
   },
   "outputs": [],
   "source": [
    "%%time\n",
    "b1 = np.zeros(m)\n",
    "for i in range(m):\n",
    "    for j in range(n):\n",
    "        b1[i] = b1[i] + a[i,j]*x[j]"
   ]
  },
  {
   "cell_type": "code",
   "execution_count": null,
   "metadata": {
    "collapsed": true
   },
   "outputs": [],
   "source": [
    "%%time\n",
    "b2 = np.zeros(m)\n",
    "for i in range(m):\n",
    "    ai = a[i,:]\n",
    "    b2[i] = np.inner(ai,x)"
   ]
  },
  {
   "cell_type": "code",
   "execution_count": null,
   "metadata": {
    "collapsed": true
   },
   "outputs": [],
   "source": [
    "%%time\n",
    "b3 = np.zeros(m)\n",
    "for j in range(n):\n",
    "    for i in range(m):\n",
    "        b3[i] = b3[i] + a[i,j]*x[j]"
   ]
  },
  {
   "cell_type": "code",
   "execution_count": null,
   "metadata": {
    "collapsed": true
   },
   "outputs": [],
   "source": [
    "if n < 3:\n",
    "    print('a',a,'\\nx',x)\n",
    "    print('b',b,'\\nb1',b1,'\\nb2',b2,'\\nb3',b3)\n",
    "else:\n",
    "    print(n)"
   ]
  },
  {
   "cell_type": "markdown",
   "metadata": {},
   "source": [
    "### Matrix Inversion"
   ]
  },
  {
   "cell_type": "code",
   "execution_count": 46,
   "metadata": {
    "collapsed": true
   },
   "outputs": [],
   "source": [
    "from numpy.linalg import inv\n"
   ]
  },
  {
   "cell_type": "code",
   "execution_count": 55,
   "metadata": {},
   "outputs": [
    {
     "name": "stdout",
     "output_type": "stream",
     "text": [
      "[[-1.20684312 -1.47942123]\n",
      " [ 0.73672062 -2.02930361]]\n"
     ]
    }
   ],
   "source": [
    "n = 2\n",
    "a1 = np.random.normal(size=n*n).reshape(n,n)\n",
    "\n",
    "print(a1)"
   ]
  },
  {
   "cell_type": "code",
   "execution_count": null,
   "metadata": {
    "collapsed": true
   },
   "outputs": [],
   "source": []
  },
  {
   "cell_type": "code",
   "execution_count": 56,
   "metadata": {},
   "outputs": [
    {
     "name": "stdout",
     "output_type": "stream",
     "text": [
      "CPU times: user 0 ns, sys: 0 ns, total: 0 ns\n",
      "Wall time: 199 µs\n"
     ]
    }
   ],
   "source": [
    "%%time\n",
    "ainv = inv(a1)"
   ]
  },
  {
   "cell_type": "code",
   "execution_count": 57,
   "metadata": {},
   "outputs": [
    {
     "name": "stdout",
     "output_type": "stream",
     "text": [
      "[[-1.20684312 -1.47942123]\n",
      " [ 0.73672062 -2.02930361]]\n",
      "[[-0.57341625  0.41803709]\n",
      " [-0.20817367 -0.34101524]]\n"
     ]
    },
    {
     "data": {
      "text/plain": [
       "matrix([[  1.00000000e+00,   0.00000000e+00],\n",
       "        [  1.11022302e-16,   1.00000000e+00]])"
      ]
     },
     "execution_count": 57,
     "metadata": {},
     "output_type": "execute_result"
    }
   ],
   "source": [
    "print(a1)\n",
    "print(ainv)\n",
    "\n",
    "np.matrix(a1) * np.matrix(ainv)"
   ]
  },
  {
   "cell_type": "code",
   "execution_count": 58,
   "metadata": {
    "collapsed": true
   },
   "outputs": [],
   "source": [
    "i1=np.matmul(a1,ainv)"
   ]
  },
  {
   "cell_type": "code",
   "execution_count": null,
   "metadata": {
    "collapsed": true
   },
   "outputs": [],
   "source": [
    "i0=np.eye(n)"
   ]
  },
  {
   "cell_type": "code",
   "execution_count": null,
   "metadata": {
    "collapsed": true
   },
   "outputs": [],
   "source": [
    "print(np.allclose(i0,i1,atol=1e-10))\n",
    "print(i1)"
   ]
  },
  {
   "cell_type": "code",
   "execution_count": null,
   "metadata": {
    "collapsed": true
   },
   "outputs": [],
   "source": []
  }
 ],
 "metadata": {
  "anaconda-cloud": {},
  "kernelspec": {
   "display_name": "Python 3",
   "language": "python",
   "name": "python3"
  },
  "language_info": {
   "codemirror_mode": {
    "name": "ipython",
    "version": 3
   },
   "file_extension": ".py",
   "mimetype": "text/x-python",
   "name": "python",
   "nbconvert_exporter": "python",
   "pygments_lexer": "ipython3",
   "version": "3.6.2"
  }
 },
 "nbformat": 4,
 "nbformat_minor": 1
}
