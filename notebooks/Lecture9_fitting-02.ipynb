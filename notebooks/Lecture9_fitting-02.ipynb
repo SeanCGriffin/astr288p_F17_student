{
 "cells": [
  {
   "cell_type": "markdown",
   "metadata": {},
   "source": [
    "# Lecture 9: Fitting Part Deux (the Sequel)\n",
    "\n",
    "In this module, we will work with real science data! We will also talk about comparing fits we are also going to implement some wrapper functions which allow us to fit data sets over a given range so we can do full fits with sensible initial guesses. \n",
    "\n",
    "We will also discuss reading in data from a file (real science data!) and we'll talk about comparing fits to see which one better fits the dataset. "
   ]
  },
  {
   "cell_type": "code",
   "execution_count": 10,
   "metadata": {
    "collapsed": true
   },
   "outputs": [],
   "source": [
    "%matplotlib inline\n",
    "\n",
    "import matplotlib.pyplot as plt\n",
    "import numpy as np\n",
    "import math\n",
    "\n",
    "from scipy import optimize"
   ]
  },
  {
   "cell_type": "markdown",
   "metadata": {},
   "source": [
    "## Reading Data from Disk"
   ]
  },
  {
   "cell_type": "code",
   "execution_count": 11,
   "metadata": {},
   "outputs": [
    {
     "name": "stdout",
     "output_type": "stream",
     "text": [
      "#Fermi-LAT energy points\n",
      "#E (GeV) F(erg/cm^2/s) error(erg/cm^2/s)\n",
      "0.1197284 2.782675e-10 4.320226e-12\n",
      "0.175736 1.371493e-10 3.437277e-12\n",
      "0.2579454 6.840274e-11 3.201041e-12\n",
      "0.3786163 3.922656e-11 3.036997e-12\n",
      "0.5557299 3.79908e-11 3.317519e-12\n",
      "0.8156986 3.746278e-11 3.640678e-12\n",
      "1.197284 2.859329e-11 3.89845e-12\n",
      "1.757371 3.660324e-11 4.20265e-12\n",
      "2.579468 4.329536e-11 4.663271e-12\n",
      "3.786146 4.741375e-11 5.152214e-12\n",
      "5.5573 6.087261e-11 5.770672e-12\n",
      "8.156999 6.221362e-11 6.120325e-12\n",
      "12.9863 8.188062e-11 5.886341e-12\n",
      "23.09326 9.476316e-11 7.09109e-12\n",
      "41.06628 9.320332e-11 8.569925e-12\n",
      "73.02731 8.268462e-11 1.073483e-11\n",
      "129.863 8.038287e-11 1.435097e-11\n",
      "225.9676 7.980947e-11 1.934809e-11\n",
      "\n"
     ]
    }
   ],
   "source": [
    "#These data have been taken from:\n",
    "#A search for enhanced very high energy gamma-ray emission from the March 2013 Crab Nebula flare\n",
    "#E. Aliu, S. Archambault, T. Aune, et al. (2014). ApJL, 781:1\n",
    "#adsabs.harvard.edu/abs/2014ApJ...781L..11A\n",
    "\n",
    "with open(\"../data/lecture9/fermi_data.dat\") as f:\n",
    "    while True:\n",
    "        line = f.readline().strip()\n",
    "        print(line)\n",
    "        if line == '':\n",
    "            # either end of file or just a blank line.....\n",
    "            # we'll assume EOF\n",
    "            break"
   ]
  },
  {
   "cell_type": "markdown",
   "metadata": {},
   "source": [
    "We need to parse this information. Firstly, there are two header rows which need to be eliminated. \n",
    "\n",
    "Secondly, we need to parse this information into a variable that we can manipulate. "
   ]
  },
  {
   "cell_type": "code",
   "execution_count": 12,
   "metadata": {},
   "outputs": [
    {
     "name": "stdout",
     "output_type": "stream",
     "text": [
      "Line 0 is a comment.\n",
      "Line 1 is a comment.\n",
      "['0.1197284', '2.782675e-10', '4.320226e-12']\n",
      "['0.175736', '1.371493e-10', '3.437277e-12']\n",
      "['0.2579454', '6.840274e-11', '3.201041e-12']\n",
      "['0.3786163', '3.922656e-11', '3.036997e-12']\n",
      "['0.5557299', '3.79908e-11', '3.317519e-12']\n",
      "['0.8156986', '3.746278e-11', '3.640678e-12']\n",
      "['1.197284', '2.859329e-11', '3.89845e-12']\n",
      "['1.757371', '3.660324e-11', '4.20265e-12']\n",
      "['2.579468', '4.329536e-11', '4.663271e-12']\n",
      "['3.786146', '4.741375e-11', '5.152214e-12']\n",
      "['5.5573', '6.087261e-11', '5.770672e-12']\n",
      "['8.156999', '6.221362e-11', '6.120325e-12']\n",
      "['12.9863', '8.188062e-11', '5.886341e-12']\n",
      "['23.09326', '9.476316e-11', '7.09109e-12']\n",
      "['41.06628', '9.320332e-11', '8.569925e-12']\n",
      "['73.02731', '8.268462e-11', '1.073483e-11']\n",
      "['129.863', '8.038287e-11', '1.435097e-11']\n",
      "['225.9676', '7.980947e-11', '1.934809e-11']\n"
     ]
    },
    {
     "data": {
      "text/plain": [
       "<matplotlib.text.Text at 0x7f9c9f4a76a0>"
      ]
     },
     "execution_count": 12,
     "metadata": {},
     "output_type": "execute_result"
    },
    {
     "data": {
      "image/png": "[encoded data removed]",
      "text/plain": [
       "<matplotlib.figure.Figure at 0x7f9c9f985a90>"
      ]
     },
     "metadata": {},
     "output_type": "display_data"
    }
   ],
   "source": [
    "energy_bin = []\n",
    "nuFnu = []\n",
    "nuFnu_error = []\n",
    "\n",
    "with open(\"../data/lecture9/fermi_data.dat\") as f:\n",
    "    line_index = 0\n",
    "    while True:\n",
    "        line = f.readline().strip()\n",
    "        #print(line)\n",
    "        if line == '':\n",
    "            # either end of file or just a blank line.....\n",
    "            # we'll assume EOF\n",
    "            break\n",
    "        elif line[0] == '#':\n",
    "            print(\"Line {0:d} is a comment.\".format(line_index))\n",
    "        else:\n",
    "            values = line.split(\" \") #the delimeter between fields here is the space ' '. This can be basically any delimiter in practice.\n",
    "            print(values)\n",
    "            #Looks like we have a nice set of numbers to work with.\n",
    "            energy_bin += [float(values[0])]\n",
    "            nuFnu += [float(values[1])]\n",
    "            nuFnu_error += [float(values[2])]\n",
    "        \n",
    "        line_index+=1 \n",
    "\n",
    "energy_bin = np.array(energy_bin, dtype=float)\n",
    "nuFnu = np.array(nuFnu, dtype=float)\n",
    "nuFnu_error = np.array(nuFnu_error, dtype=float)\n",
    "plt.errorbar(energy_bin, nuFnu, yerr=nuFnu_error, fmt='.')\n",
    "plt.yscale('log')\n",
    "plt.xscale('log')\n",
    "plt.xlabel(\"E (GeV)\")\n",
    "plt.ylabel(r\"$ \\nu F_\\nu $ (erg/cm$^2$/s)\")\n",
    "\n",
    "#Now, let's talk about what the units of the spectrum are. "
   ]
  },
  {
   "cell_type": "code",
   "execution_count": 13,
   "metadata": {},
   "outputs": [
    {
     "name": "stdout",
     "output_type": "stream",
     "text": [
      "[[  1.19728400e-01   1.75736000e-01   2.57945400e-01   3.78616300e-01\n",
      "    5.55729900e-01   8.15698600e-01   1.19728400e+00   1.75737100e+00\n",
      "    2.57946800e+00   3.78614600e+00   5.55730000e+00   8.15699900e+00\n",
      "    1.29863000e+01   2.30932600e+01   4.10662800e+01   7.30273100e+01\n",
      "    1.29863000e+02   2.25967600e+02]\n",
      " [  2.78267500e-10   1.37149300e-10   6.84027400e-11   3.92265600e-11\n",
      "    3.79908000e-11   3.74627800e-11   2.85932900e-11   3.66032400e-11\n",
      "    4.32953600e-11   4.74137500e-11   6.08726100e-11   6.22136200e-11\n",
      "    8.18806200e-11   9.47631600e-11   9.32033200e-11   8.26846200e-11\n",
      "    8.03828700e-11   7.98094700e-11]\n",
      " [  4.32022600e-12   3.43727700e-12   3.20104100e-12   3.03699700e-12\n",
      "    3.31751900e-12   3.64067800e-12   3.89845000e-12   4.20265000e-12\n",
      "    4.66327100e-12   5.15221400e-12   5.77067200e-12   6.12032500e-12\n",
      "    5.88634100e-12   7.09109000e-12   8.56992500e-12   1.07348300e-11\n",
      "    1.43509700e-11   1.93480900e-11]]\n",
      "(3, 18)\n"
     ]
    }
   ],
   "source": [
    "#the numpy.loadtxt() function is incredibly handy for loading a table of data.\n",
    "\n",
    "fermi_data = np.loadtxt(\"../data/lecture9/fermi_data.dat\",skiprows=2,unpack=1)\n",
    "\n",
    "print(fermi_data)\n",
    "print(fermi_data.shape)\n",
    "\n",
    "veritas_baseline = np.loadtxt(\"../data/lecture9/veritas_baseline.dat\",skiprows=2,unpack=1)\n",
    "veritas_flare = np.loadtxt(\"../data/lecture9/veritas_flate.dat\",skiprows=2,unpack=1)\n"
   ]
  },
  {
   "cell_type": "code",
   "execution_count": 14,
   "metadata": {},
   "outputs": [
    {
     "data": {
      "text/plain": [
       "<matplotlib.text.Text at 0x7f9c9f79f710>"
      ]
     },
     "execution_count": 14,
     "metadata": {},
     "output_type": "execute_result"
    },
    {
     "data": {
      "image/png": "[encoded data removed]",
      "text/plain": [
       "<matplotlib.figure.Figure at 0x7f9c9f78d5c0>"
      ]
     },
     "metadata": {},
     "output_type": "display_data"
    }
   ],
   "source": [
    "def gev_to_erg(gev):\n",
    "    return 0.00160217662*gev\n",
    "\n",
    "\n",
    "for data in [fermi_data]:\n",
    "    E, nuFnu, nueF = data\n",
    "    plt.errorbar(E, nuFnu/gev_to_erg(1), nueF / gev_to_erg(1),fmt='.')\n",
    "plt.yscale(\"log\")\n",
    "plt.xscale(\"log\")\n",
    "plt.xlabel('E (GeV')\n",
    "plt.ylabel(r\"$\\nu F_\\nu$\")"
   ]
  },
  {
   "cell_type": "code",
   "execution_count": 15,
   "metadata": {},
   "outputs": [
    {
     "name": "stdout",
     "output_type": "stream",
     "text": [
      "[  8.52409851e-07   3.83450641e+00] [  2.01044443e-09   1.30340000e-02]\n"
     ]
    },
    {
     "data": {
      "text/plain": [
       "<matplotlib.text.Text at 0x7f9c9f2c2d68>"
      ]
     },
     "execution_count": 15,
     "metadata": {},
     "output_type": "execute_result"
    },
    {
     "data": {
      "image/png": "[encoded data removed]",
      "text/plain": [
       "<matplotlib.figure.Figure at 0x7f9c9cfa1588>"
      ]
     },
     "metadata": {},
     "output_type": "display_data"
    }
   ],
   "source": [
    "def power_law2(x, *params):\n",
    "    F0, gamma = params\n",
    "    \n",
    "    #return F0 * (gamma+1.) * pow(x, gamma) / (300.**(gamma + 1) - (0.1**(gamma + 1)))\n",
    "    return (F0 * (gamma-1.) * pow(x, -gamma) / (pow(0.1, 1.-gamma)))\n",
    "            \n",
    "F = nuFnu\n",
    "eF = nuFnu_error\n",
    "c,cov = optimize.curve_fit(power_law2, E, nuFnu / gev_to_erg(1.) / E / E, p0=[6e-7, 3.0], sigma=eF)\n",
    "print(c, np.sqrt(np.diag(cov)))\n",
    "\n",
    "plt.errorbar(E,F,eF,fmt='.')\n",
    "plt.yscale(\"log\")\n",
    "plt.xscale(\"log\")\n",
    "plt.plot(E, (E*E*power_law2(E,*c) * gev_to_erg(1.)))\n",
    "plt.xlim(0.1,300.)\n",
    "plt.ylim(1.e-11,)\n",
    "plt.xlabel('E (GeV')\n",
    "plt.ylabel(r\"$\\nu F_\\nu$\")"
   ]
  },
  {
   "cell_type": "markdown",
   "metadata": {},
   "source": [
    "It looks like our fit converged, but looking at the plot you can see that it only really fits the first few data points. This is because their error bars are so much smaller than the other ones, they hold a lot more weight. \n",
    "\n",
    "You can imagine a situation where if the errors were all equal, this might not be the case (We saw some of this last week.)\n",
    "\n",
    "The results here are not quite consistent with the results from the paper; they're actually a bit high.\n",
    "\n",
    "This is because the flux is actually the sum of two different components; syncrhotron emission and inverse Compton emission. Later, you will do the exercise of fitting both compoents simultaneously in an attempt to match public results. \n",
    "\n",
    "Earlier we loaded two more datasets. Let's now plot all the data at the same time and see what the full energy spectrum looks like. "
   ]
  },
  {
   "cell_type": "code",
   "execution_count": 16,
   "metadata": {},
   "outputs": [
    {
     "data": {
      "image/png": "[encoded data removed]",
      "text/plain": [
       "<matplotlib.figure.Figure at 0x7f9c9cef05c0>"
      ]
     },
     "metadata": {},
     "output_type": "display_data"
    }
   ],
   "source": [
    "plt.figure(figsize=[8,6])\n",
    "for data,dataset_name in zip([fermi_data, veritas_baseline, veritas_flare], \n",
    "                             ['Fermi-LAT', 'VERITAS baseline', 'VERITAS flare']):\n",
    "    E, nuFnu, nueF = data\n",
    "    plt.errorbar(E, nuFnu/gev_to_erg(1), nueF / gev_to_erg(1),fmt='.', label=dataset_name)\n",
    "    \n",
    "plt.yscale(\"log\")\n",
    "plt.xscale(\"log\")\n",
    "plt.xlabel('E (GeV')\n",
    "plt.ylabel(r\"$\\nu F_\\nu$\")\n",
    "plt.legend()\n",
    "plt.show()\n",
    "\n",
    "#OK, so, it looks like two of the datasets are actually overlapping with energy. \n",
    "#If you read the paper, you will see that some of the data were taken while the Crab Nebula was flaring in the MeV range\n",
    "\n",
    "#We haven't included those data in this notebook (but look at the figure in the paper).\n",
    "#We should fit these data and see if they are different or not -- if they are, it might mean new physics."
   ]
  },
  {
   "cell_type": "code",
   "execution_count": 17,
   "metadata": {},
   "outputs": [],
   "source": [
    "import scipy.stats\n",
    "\n",
    "def calc_chisquare(meas, sigma, fit):\n",
    "    '''\n",
    "    returns a chiquared value given measurements, errors, and the predicted value.\n",
    "    '''\n",
    "    \n",
    "    diff = pow(meas-fit, 2.)\n",
    "    test_statistic = (diff / pow(sigma,2.)).sum()\n",
    "    \n",
    "    return test_statistic\n",
    "\n",
    "\n",
    "def power_law(x, *params):\n",
    "    \n",
    "    norm, index = params\n",
    "    \n",
    "    return norm * pow(x / 1000., index)\n"
   ]
  },
  {
   "cell_type": "markdown",
   "metadata": {
    "collapsed": true
   },
   "source": [
    "## Fitting data over a range\n",
    "\n",
    "One way to fit data over a given range would be to slice the arrays containing the X- and Y- data and fit only the sliced data. This can be a bit clunky, however, it would be nice to write a function that looks something like \n",
    "\n",
    "\n",
    "    def fit(f, x, y, guess=None, fit_range=[]):\n",
    "        ...  \n",
    "\n",
    "We can start by implementing a wrapper for curve_fit()."
   ]
  },
  {
   "cell_type": "code",
   "execution_count": null,
   "metadata": {
    "collapsed": true
   },
   "outputs": [],
   "source": []
  },
  {
   "cell_type": "markdown",
   "metadata": {},
   "source": [
    "## More complicated model fitting\n",
    "\n",
    "Looking at the dataset from before, we see that there are two components. We want to fit for both of them. We already know the model for the synchrotron radiation (a power law) but we should not try to characterize the Inverse Compton peak. \n",
    "\n",
    "In the literature, the high-energy side of the IC peak is generally charcterized with a curved power law: \n",
    "\n",
    "$$ \\frac{dN}{dE} = f_0 \\left(\\frac{E}{E_0}\\right)^{-\\alpha + \\beta \\log(E/E_0)}$$. \n",
    "\n",
    "where now we have three parameters, and we've introduced at term called the 'normalisation energy'. It is an important value, but we do not fit to it; we usually fix it to a value. We will fit it to 1 TeV. "
   ]
  },
  {
   "cell_type": "code",
   "execution_count": 18,
   "metadata": {
    "collapsed": true
   },
   "outputs": [],
   "source": [
    "def curved_power_law(x, *params):\n",
    "    '''\n",
    "    This function assumes that the x-axis has units of GeV.\n",
    "    We are fixing the normalisation at 1 TeV.\n",
    "    '''\n",
    "    f0, alpha, beta = params\n",
    "    \n",
    "    return f0 * pow(x/1000., -alpha + beta * np.log10(x / 1000.))"
   ]
  },
  {
   "cell_type": "code",
   "execution_count": null,
   "metadata": {
    "collapsed": true
   },
   "outputs": [],
   "source": []
  },
  {
   "cell_type": "code",
   "execution_count": null,
   "metadata": {
    "collapsed": true
   },
   "outputs": [],
   "source": []
  },
  {
   "cell_type": "markdown",
   "metadata": {},
   "source": [
    "## Extracting data from papers.\n",
    "\n",
    "Often, you will want to use someone else's publsihed data but the (e.g.) spectral points are not readily avaialbel online. This is particularly true for older papers with archival measurements. We can use programs like WebPlotDigitizer to do some of the data extraction for us! http://arohatgi.info/WebPlotDigitizer/\n",
    "\n",
    "Try it on the data in this paper: https://arxiv.org/pdf/1703.01307.pdf (note the corresponding author!)\n",
    "\n",
    "There are three different measurmeents of the same object using three different observing modes -- NOM, RHV, and UVF -- you will need to extract 9 different sets of data -- the points, and then the upper and lower error bars. The data have been fitted with power laws -- can you reproduce the results in the paper? \n",
    "\n",
    "In-class exercise: Extract the spectral data and reproduce the plot in Figure 6. You should find and plot the archival measurements, but you do not need to plot the error bands (this requires a bit of work, since it involves error propagation). This work will count as part of a homework assignment. "
   ]
  },
  {
   "cell_type": "code",
   "execution_count": null,
   "metadata": {
    "collapsed": true
   },
   "outputs": [],
   "source": []
  },
  {
   "cell_type": "code",
   "execution_count": null,
   "metadata": {
    "collapsed": true
   },
   "outputs": [],
   "source": []
  }
 ],
 "metadata": {
  "anaconda-cloud": {},
  "kernelspec": {
   "display_name": "Python 3",
   "language": "python",
   "name": "python3"
  },
  "language_info": {
   "codemirror_mode": {
    "name": "ipython",
    "version": 3
   },
   "file_extension": ".py",
   "mimetype": "text/x-python",
   "name": "python",
   "nbconvert_exporter": "python",
   "pygments_lexer": "ipython3",
   "version": "3.6.2"
  }
 },
 "nbformat": 4,
 "nbformat_minor": 1
}
